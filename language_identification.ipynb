{
  "nbformat": 4,
  "nbformat_minor": 0,
  "metadata": {
    "colab": {
      "name": "language_identification.ipynb",
      "provenance": [],
      "collapsed_sections": [],
      "mount_file_id": "1JysEJw3AVibY7QAHw6Y-FDltXueg2Y3Z",
      "authorship_tag": "ABX9TyOc45lO6U1tQByGLJl8RZWI",
      "include_colab_link": true
    },
    "kernelspec": {
      "name": "python3",
      "display_name": "Python 3"
    },
    "language_info": {
      "name": "python"
    }
  },
  "cells": [
    {
      "cell_type": "markdown",
      "metadata": {
        "id": "view-in-github",
        "colab_type": "text"
      },
      "source": [
        "<a href=\"https://colab.research.google.com/github/dooryan/languageidentification/blob/main/language_identification.ipynb\" target=\"_parent\"><img src=\"https://colab.research.google.com/assets/colab-badge.svg\" alt=\"Open In Colab\"/></a>"
      ]
    },
    {
      "cell_type": "code",
      "execution_count": null,
      "metadata": {
        "id": "IhQEzWcrekSv"
      },
      "outputs": [],
      "source": [
        "import string\n",
        "from sklearn.metrics import f1_score\n",
        "from sklearn.naive_bayes import MultinomialNB\n",
        "from sklearn.feature_extraction.text import CountVectorizer\n",
        "import joblib"
      ]
    },
    {
      "cell_type": "code",
      "source": [
        "def open_file(filename):\n",
        "    with open(filename, 'r',encoding=\"utf8\") as f:\n",
        "        data = f.readlines()\n",
        "    return data"
      ],
      "metadata": {
        "id": "sqMUWTfAfGxT"
      },
      "execution_count": null,
      "outputs": []
    },
    {
      "cell_type": "code",
      "source": [
        "data_raw = dict()\n",
        "\n",
        "data_raw['ceb'] =  open_file('/content/drive/MyDrive/Colab Notebooks/Thesis/Cebuano.csv')\n",
        "data_raw['msk'] =  open_file('/content/drive/MyDrive/Colab Notebooks/Thesis/Mansaka.csv')\n",
        "data_raw['mnb'] =  open_file('/content/drive/MyDrive/Colab Notebooks/Thesis/Manobo-Ata.csv')"
      ],
      "metadata": {
        "id": "9q7rPX4khrZF"
      },
      "execution_count": null,
      "outputs": []
    },
    {
      "cell_type": "code",
      "source": [
        "data_raw['ceb'][1000]"
      ],
      "metadata": {
        "id": "YDoVuXHlwY9i",
        "colab": {
          "base_uri": "https://localhost:8080/",
          "height": 53
        },
        "outputId": "27ccfcfa-aa0e-4297-a811-161e090b0be6"
      },
      "execution_count": null,
      "outputs": [
        {
          "output_type": "execute_result",
          "data": {
            "application/vnd.google.colaboratory.intrinsic+json": {
              "type": "string"
            },
            "text/plain": [
              "'1001\\tPagkakaron gipahayag sa manager sa DDPKRM nga nakahuman na siya ug 18 batches sa mga aplikante sa pagpahigayon ug phsycological exam ug isunod niini ang interview.\\n'"
            ]
          },
          "metadata": {},
          "execution_count": 4
        }
      ]
    },
    {
      "cell_type": "code",
      "source": [
        "def show_statistics(data):\n",
        "    for language, sentences in data.items():\n",
        "        \n",
        "        word_list = ' '.join(sentences).split()\n",
        "        \n",
        "        number_of_sentences = len(sentences)  \n",
        "        number_of_words = len(word_list)\n",
        "        number_of_unique_words = len(set(word_list))\n",
        "        sample_extract = ''.join(sentences[7].split(' ')[:30])\n",
        "    \n",
        "        print(f'Language: {language}')\n",
        "        print('-----------------------')\n",
        "        print(f'Number of sentences\\t:\\t {number_of_sentences}')\n",
        "        print(f'Number of words\\t\\t:\\t {number_of_words}')\n",
        "        print(f'Number of unique words\\t:\\t {number_of_unique_words}')\n",
        "        print(f'Sample extract\\t\\t:\\t {sample_extract}...\\n')"
      ],
      "metadata": {
        "id": "oP7eQ15owcUV"
      },
      "execution_count": null,
      "outputs": []
    },
    {
      "cell_type": "code",
      "source": [
        "show_statistics(data_raw)"
      ],
      "metadata": {
        "id": "6y5aRv6hweh6"
      },
      "execution_count": null,
      "outputs": []
    },
    {
      "cell_type": "code",
      "source": [
        "def text_process(text):\n",
        "    \n",
        "    preprocessed_text = text\n",
        "    preprocessed_text = text.lower().replace('-',' ')\n",
        "    translation_table = str.maketrans('\\n',' ', string.punctuation+string.digits) \n",
        "    preprocessed_text = preprocessed_text.translate(translation_table)  \n",
        "    \n",
        "    return preprocessed_text"
      ],
      "metadata": {
        "id": "lrVWkyCHwhti"
      },
      "execution_count": null,
      "outputs": []
    },
    {
      "cell_type": "code",
      "source": [
        "data_preprocessed = {k: [text_process(sentence) for sentence in v] for k, v in data_raw.items()}"
      ],
      "metadata": {
        "id": "nRFTyNH1MC55"
      },
      "execution_count": null,
      "outputs": []
    },
    {
      "cell_type": "code",
      "source": [
        "print('ORIGINAL STATISTICS')\n",
        "show_statistics(data_raw)\n",
        "print('PREPROCESSED STATISTICS :')\n",
        "show_statistics(data_preprocessed)"
      ],
      "metadata": {
        "id": "BOIDhIFhomBl"
      },
      "execution_count": null,
      "outputs": []
    },
    {
      "cell_type": "code",
      "source": [
        "data_preprocessed['mnb'][8000]"
      ],
      "metadata": {
        "colab": {
          "base_uri": "https://localhost:8080/",
          "height": 35
        },
        "id": "Oi-e0yKDG1ox",
        "outputId": "75cc0325-f723-4e1e-eddf-538a7298a805"
      },
      "execution_count": null,
      "outputs": [
        {
          "output_type": "execute_result",
          "data": {
            "application/vnd.google.colaboratory.intrinsic+json": {
              "type": "string"
            },
            "text/plain": [
              "'magimon ko du on sundau kai to mansalinow  '"
            ]
          },
          "metadata": {},
          "execution_count": 31
        }
      ]
    },
    {
      "cell_type": "code",
      "source": [
        "sentences_train, y_train =[], []\n",
        "for k, v in data_preprocessed.items():\n",
        "    for sentence in v:\n",
        "        sentences_train.append(sentence)\n",
        "        y_train.append(k)"
      ],
      "metadata": {
        "id": "KQ5ZuNUpp7F9"
      },
      "execution_count": null,
      "outputs": []
    },
    {
      "cell_type": "code",
      "source": [
        "vectorizer = CountVectorizer()"
      ],
      "metadata": {
        "id": "vfDVc0XDp-AK"
      },
      "execution_count": null,
      "outputs": []
    },
    {
      "cell_type": "code",
      "source": [
        "x_train = vectorizer.fit_transform(sentences_train)\n",
        "x_train"
      ],
      "metadata": {
        "id": "v9CvLVMzqAej",
        "colab": {
          "base_uri": "https://localhost:8080/"
        },
        "outputId": "2ff90e42-1c21-4699-dd46-8a931b1023ad"
      },
      "execution_count": null,
      "outputs": [
        {
          "output_type": "execute_result",
          "data": {
            "text/plain": [
              "<90004x53742 sparse matrix of type '<class 'numpy.int64'>'\n",
              "\twith 960838 stored elements in Compressed Sparse Row format>"
            ]
          },
          "metadata": {},
          "execution_count": 12
        }
      ]
    },
    {
      "cell_type": "code",
      "source": [
        "naive_bayes = MultinomialNB()\n",
        "naive_bayes.fit(x_train,y_train)"
      ],
      "metadata": {
        "id": "eSIbMFloqE3L",
        "colab": {
          "base_uri": "https://localhost:8080/"
        },
        "outputId": "0fb698b2-95b8-4627-ffe6-6db626618574"
      },
      "execution_count": null,
      "outputs": [
        {
          "output_type": "execute_result",
          "data": {
            "text/plain": [
              "MultinomialNB()"
            ]
          },
          "metadata": {},
          "execution_count": 13
        }
      ]
    },
    {
      "cell_type": "code",
      "source": [
        "data_val = dict()\n",
        "\n",
        "data_val['ceb'] =  open_file('/content/drive/MyDrive/Colab Notebooks/Thesis/Cebuano.csv')\n",
        "data_val['msk'] =  open_file('/content/drive/MyDrive/Colab Notebooks/Thesis/Mansaka.csv')\n",
        "data_val['mnb'] =  open_file('/content/drive/MyDrive/Colab Notebooks/Thesis/Manobo-Ata.csv')\n",
        "\n",
        "\n",
        "\n",
        "\n",
        "\n",
        "data_val_preprocessed = {k: [text_process(sentence) for sentence in v] for k,v in data_val.items()}"
      ],
      "metadata": {
        "id": "h1fGKP2pqGjS"
      },
      "execution_count": null,
      "outputs": []
    },
    {
      "cell_type": "code",
      "source": [
        "show_statistics(data_val_preprocessed)"
      ],
      "metadata": {
        "id": "yIGUXS5cwjti"
      },
      "execution_count": null,
      "outputs": []
    },
    {
      "cell_type": "code",
      "source": [
        "sentences_val, y_val = [], []\n",
        "for k,v in data_val_preprocessed.items():\n",
        "    for sentence in v:\n",
        "        sentences_val.append(sentence)\n",
        "        y_val.append(k)"
      ],
      "metadata": {
        "id": "JeTWZ8MPqtyM"
      },
      "execution_count": null,
      "outputs": []
    },
    {
      "cell_type": "code",
      "source": [
        "x_val = vectorizer.transform(sentences_val)"
      ],
      "metadata": {
        "id": "TKXNbYQrqvhF"
      },
      "execution_count": null,
      "outputs": []
    },
    {
      "cell_type": "code",
      "source": [
        "predictions = naive_bayes.predict(x_val)\n",
        "predictions"
      ],
      "metadata": {
        "id": "e20bIhDTqxiP",
        "colab": {
          "base_uri": "https://localhost:8080/"
        },
        "outputId": "3de77c96-6425-444b-8de2-de210910c02f"
      },
      "execution_count": null,
      "outputs": [
        {
          "output_type": "execute_result",
          "data": {
            "text/plain": [
              "array(['ceb', 'ceb', 'ceb', ..., 'mnb', 'mnb', 'mnb'], dtype='<U3')"
            ]
          },
          "metadata": {},
          "execution_count": 18
        }
      ]
    },
    {
      "cell_type": "code",
      "source": [
        "from sklearn.metrics import confusion_matrix\n",
        "print(confusion_matrix(y_val, predictions, labels=['ceb', 'msk', 'mnb']))"
      ],
      "metadata": {
        "id": "4U_eC8HVqzAe",
        "colab": {
          "base_uri": "https://localhost:8080/"
        },
        "outputId": "2ac48b16-3b1d-437c-f65e-247a6f93b0e7"
      },
      "execution_count": null,
      "outputs": [
        {
          "output_type": "stream",
          "name": "stdout",
          "text": [
            "[[27748    97    29]\n",
            " [    1 20867   585]\n",
            " [   46    22 40609]]\n"
          ]
        }
      ]
    },
    {
      "cell_type": "code",
      "source": [
        "f1_score(y_val, predictions, average='weighted')"
      ],
      "metadata": {
        "id": "t5WSzytCq2HM",
        "colab": {
          "base_uri": "https://localhost:8080/"
        },
        "outputId": "e3b7a6ac-47cf-47b4-de9d-84e089fa02ed"
      },
      "execution_count": null,
      "outputs": [
        {
          "output_type": "execute_result",
          "data": {
            "text/plain": [
              "0.9913145155844283"
            ]
          },
          "metadata": {},
          "execution_count": 20
        }
      ]
    },
    {
      "cell_type": "code",
      "source": [
        "joblib.dump(naive_bayes, '/content/drive/MyDrive/Colab Notebooks/Thesis/final_model.joblib')\n",
        "joblib.dump(vectorizer, '/content/drive/MyDrive/Colab Notebooks/Thesis/final_modelVec.joblib')"
      ],
      "metadata": {
        "colab": {
          "base_uri": "https://localhost:8080/"
        },
        "id": "88WCjo60zIhf",
        "outputId": "7bb53b60-d669-4087-9bbf-a234bd554c8d"
      },
      "execution_count": null,
      "outputs": [
        {
          "output_type": "execute_result",
          "data": {
            "text/plain": [
              "['/content/drive/MyDrive/Colab Notebooks/Thesis/final_modelVec.joblib']"
            ]
          },
          "metadata": {},
          "execution_count": 21
        }
      ]
    },
    {
      "cell_type": "code",
      "source": [
        "model = joblib.load('/content/drive/MyDrive/Colab Notebooks/Thesis/final_model.joblib')\n",
        "vectorizer = joblib.load('/content/drive/MyDrive/Colab Notebooks/Thesis/final_modelVec.joblib')"
      ],
      "metadata": {
        "id": "iKquaj67zJUA"
      },
      "execution_count": null,
      "outputs": []
    },
    {
      "cell_type": "code",
      "source": [
        "text = \"Samoka oy ayaw daw pag samok\"\n",
        "text = text_process(text)\n",
        "text=[text]\n",
        "text_vectorized = vectorizer.transform(text)\n",
        "\n",
        "model.predict(text_vectorized)[0]"
      ],
      "metadata": {
        "colab": {
          "base_uri": "https://localhost:8080/",
          "height": 35
        },
        "id": "y_L2ZnVxzUWV",
        "outputId": "52e43a0b-9b06-4402-d6c3-7df8a75c2eb0"
      },
      "execution_count": null,
      "outputs": [
        {
          "output_type": "execute_result",
          "data": {
            "application/vnd.google.colaboratory.intrinsic+json": {
              "type": "string"
            },
            "text/plain": [
              "'ceb'"
            ]
          },
          "metadata": {},
          "execution_count": 23
        }
      ]
    }
  ]
}